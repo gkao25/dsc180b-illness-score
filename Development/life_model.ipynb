{
 "cells": [
  {
   "cell_type": "code",
   "execution_count": null,
   "metadata": {},
   "outputs": [],
   "source": [
    "import pandas as pd"
   ]
  },
  {
   "cell_type": "code",
   "execution_count": null,
   "metadata": {},
   "outputs": [],
   "source": [
    "raw_df = pd.read_csv('data\\dev_wings_agg_span_2024_01_01.csv')\n",
    "df = raw_df[['shape', 'cust_industrial', 'cust_commercial', 'cust_residential', 'cust_sensitive', 'cust_essential', 'cust_medicalcert',\n",
    "             'cust_urgent', 'cust_lifesupport', 'cust_total', 'downstream_cust_industrial', 'downstream_cust_commercial', 'downstream_cust_residential',\n",
    "             'downstream_cust_sensitive', 'downstream_cust_essential', 'downstream_cust_medicalcert', 'downstream_cust_urgent', 'downstream_cust_lifesupport',\n",
    "             'downstream_cust_total']]"
   ]
  },
  {
   "cell_type": "code",
   "execution_count": null,
   "metadata": {},
   "outputs": [],
   "source": [
    "df"
   ]
  },
  {
   "cell_type": "code",
   "execution_count": null,
   "metadata": {},
   "outputs": [],
   "source": [
    "import folium\n",
    "from shapely import wkt\n",
    "from pyproj import Transformer\n",
    "\n",
    "transformer = Transformer.from_crs(\"EPSG:2230\", \"EPSG:4326\", always_xy=True)\n",
    "\n",
    "first_geom = wkt.loads(df['shape'].iloc[0])\n",
    "first_coord = list(first_geom.coords)[0]\n",
    "first_lon, first_lat = transformer.transform(*first_coord)\n",
    "m = folium.Map(location=(first_lat, first_lon), zoom_start=14)\n",
    "\n",
    "for idx, row in df.head(10000).iterrows():\n",
    "    # Convert WKT to geometry\n",
    "    geom = wkt.loads(row['shape'])\n",
    "    coords = list(geom.coords)\n",
    "    # Transform coordinates from source CRS to lat/lon (EPSG:4326)\n",
    "    transformed = [transformer.transform(x, y) for x, y in coords]\n",
    "    # folium expects (lat, lon) so swap the order\n",
    "    folium_coords = [(lat, lon) for lon, lat in transformed]\n",
    "    # Add the line to the map\n",
    "    folium.PolyLine(locations=folium_coords, color=\"blue\", weight=5).add_to(m)\n",
    "\n",
    "m"
   ]
  },
  {
   "cell_type": "code",
   "execution_count": null,
   "metadata": {},
   "outputs": [],
   "source": [
    "polygons = pd.read_csv('data\\src_vri_snapshot_2024_03_20.csv')\n",
    "\n",
    "polygons"
   ]
  },
  {
   "cell_type": "code",
   "execution_count": null,
   "metadata": {},
   "outputs": [],
   "source": [
    "import pandas as pd\n",
    "import geopandas as gpd\n",
    "import folium\n",
    "from shapely import wkt\n",
    "from shapely.ops import transform\n",
    "from pyproj import Transformer\n",
    "\n",
    "gdf_lines = gpd.GeoDataFrame(\n",
    "    df,\n",
    "    geometry=gpd.GeoSeries.from_wkt(df['shape'])\n",
    ")\n",
    "gdf_lines.set_crs(\"EPSG:2230\", inplace=True)\n",
    "\n",
    "gdf_polygons = gpd.GeoDataFrame(\n",
    "    polygons,\n",
    "    geometry=gpd.GeoSeries.from_wkt(polygons['shape'])\n",
    ")\n",
    "gdf_polygons.set_crs(\"EPSG:4326\", inplace=True)\n",
    "\n",
    "def remove_z(x, y, z=None):\n",
    "    return (x, y)\n",
    "\n",
    "gdf_polygons['geometry'] = gdf_polygons.geometry.apply(lambda geom: transform(remove_z, geom))\n",
    "\n",
    "# ---------------------------\n",
    "# 3. Transform Lines to EPSG:4326\n",
    "# ---------------------------\n",
    "lines_transformer = Transformer.from_crs(\"EPSG:2230\", \"EPSG:4326\", always_xy=True)\n",
    "gdf_lines = gdf_lines.to_crs(\"EPSG:4326\")\n",
    "\n",
    "# ---------------------------\n",
    "# 4. Spatial Join & Summing cust_total\n",
    "# ---------------------------\n",
    "gdf_lines_subset = gdf_lines\n",
    "\n",
    "joined = gpd.sjoin(gdf_lines_subset, gdf_polygons, how=\"inner\", predicate=\"intersects\")\n",
    "\n",
    "# Define the list of customer-related columns to sum.\n",
    "cols_to_sum = [\n",
    "    'cust_industrial', 'cust_commercial', 'cust_residential', 'cust_sensitive',\n",
    "    'cust_essential', 'cust_medicalcert', 'cust_urgent', 'cust_lifesupport',\n",
    "    'cust_total', 'downstream_cust_industrial', 'downstream_cust_commercial',\n",
    "    'downstream_cust_residential', 'downstream_cust_sensitive', 'downstream_cust_essential',\n",
    "    'downstream_cust_medicalcert', 'downstream_cust_urgent', 'downstream_cust_lifesupport',\n",
    "    'downstream_cust_total'\n",
    "]\n",
    "\n",
    "cust_sum = joined.groupby(\"index_right\")[cols_to_sum].sum()\n",
    "\n",
    "gdf_polygons = gdf_polygons.join(cust_sum, how='left')\n",
    "\n",
    "gdf_polygons[cols_to_sum] = gdf_polygons[cols_to_sum].fillna(0)\n",
    "\n",
    "gdf_polygons[cols_to_sum]"
   ]
  },
  {
   "cell_type": "code",
   "execution_count": null,
   "metadata": {},
   "outputs": [],
   "source": [
    "gdf_polygons.columns"
   ]
  },
  {
   "cell_type": "code",
   "execution_count": null,
   "metadata": {},
   "outputs": [],
   "source": [
    "df = gdf_polygons\n",
    "\n",
    "import pandas as pd\n",
    "\n",
    "weights = {\n",
    "    'lifesupport': 8,\n",
    "    'urgent': 7,\n",
    "    'medicalcert': 6,\n",
    "    'essential': 5,\n",
    "    'sensitive': 4,\n",
    "    'residential': 3,\n",
    "    'industrial': 2,\n",
    "    'commercial': 1\n",
    "}\n",
    "\n",
    "# Calculate cust_risk_score\n",
    "df['cust_risk_score'] = (\n",
    "    weights['lifesupport'] * df['cust_lifesupport'] +\n",
    "    weights['urgent'] * df['cust_urgent'] +\n",
    "    weights['medicalcert'] * df['cust_medicalcert'] +\n",
    "    weights['essential'] * df['cust_essential'] +\n",
    "    weights['sensitive'] * df['cust_sensitive'] +\n",
    "    weights['residential'] * df['cust_residential'] +\n",
    "    weights['industrial'] * df['cust_industrial'] +\n",
    "    weights['commercial'] * df['cust_commercial']\n",
    ")\n",
    "\n",
    "# Calculate downstream_cust_risk_score\n",
    "df['downstream_cust_risk_score'] = (\n",
    "    weights['lifesupport'] * df['downstream_cust_lifesupport'] +\n",
    "    weights['urgent'] * df['downstream_cust_urgent'] +\n",
    "    weights['medicalcert'] * df['downstream_cust_medicalcert'] +\n",
    "    weights['essential'] * df['downstream_cust_essential'] +\n",
    "    weights['sensitive'] * df['downstream_cust_sensitive'] +\n",
    "    weights['residential'] * df['downstream_cust_residential'] +\n",
    "    weights['industrial'] * df['downstream_cust_industrial'] +\n",
    "    weights['commercial'] * df['downstream_cust_commercial']\n",
    ")\n",
    "\n",
    "consolidated_df = df[['shape', 'cust_total', 'downstream_cust_total', 'cust_risk_score', 'downstream_cust_risk_score']]"
   ]
  },
  {
   "cell_type": "code",
   "execution_count": null,
   "metadata": {},
   "outputs": [],
   "source": [
    "min_score = consolidated_df['cust_risk_score'].min()\n",
    "max_score = consolidated_df['cust_risk_score'].max()\n",
    "\n",
    "if max_score - min_score == 0:\n",
    "    consolidated_df['cust_risk_score_scaled'] = 100\n",
    "else:\n",
    "    consolidated_df['cust_risk_score_scaled'] = ((consolidated_df['cust_risk_score'] - min_score) / (max_score - min_score)) * 100\n",
    "\n",
    "min_downstream = consolidated_df['downstream_cust_risk_score'].min()\n",
    "max_downstream = consolidated_df['downstream_cust_risk_score'].max()\n",
    "\n",
    "if max_downstream - min_downstream == 0:\n",
    "    consolidated_df['downstream_cust_risk_score_scaled'] = 100\n",
    "else:\n",
    "    consolidated_df['downstream_cust_risk_score_scaled'] = ((consolidated_df['downstream_cust_risk_score'] - min_downstream) / (max_downstream - min_downstream)) * 100\n",
    "\n",
    "consolidated_df"
   ]
  },
  {
   "cell_type": "code",
   "execution_count": null,
   "metadata": {},
   "outputs": [],
   "source": [
    "consolidated_df.to_csv('life_output.csv')"
   ]
  },
  {
   "cell_type": "code",
   "execution_count": null,
   "metadata": {},
   "outputs": [],
   "source": [
    "center = [gdf_polygons.unary_union.centroid.y, gdf_polygons.unary_union.centroid.x]\n",
    "m = folium.Map(location=center, zoom_start=12)\n",
    "\n",
    "\n",
    "tooltip = folium.GeoJsonTooltip(\n",
    "    fields=['cust_total', 'downstream_cust_total'],\n",
    "    aliases=['Cust Total:', 'Downstream Cust Total:'],\n",
    "    localize=True\n",
    ")\n",
    "\n",
    "# Add the polygons layer.\n",
    "folium.GeoJson(\n",
    "    gdf_polygons.__geo_interface__,\n",
    "    name=\"Polygons\",\n",
    "    style_function=lambda feature: {\n",
    "        'fillColor': 'lightblue',\n",
    "        'color': 'blue',\n",
    "        'weight': 2,\n",
    "        'fillOpacity': 0.3,\n",
    "    },\n",
    "    tooltip=tooltip\n",
    ").add_to(m)\n",
    "\n",
    "folium.LayerControl().add_to(m)\n",
    "\n",
    "m"
   ]
  },
  {
   "cell_type": "code",
   "execution_count": null,
   "metadata": {},
   "outputs": [],
   "source": [
    "m.save(\"prototype.html\")"
   ]
  }
 ],
 "metadata": {
  "kernelspec": {
   "display_name": "Python 3",
   "language": "python",
   "name": "python3"
  },
  "language_info": {
   "codemirror_mode": {
    "name": "ipython",
    "version": 3
   },
   "file_extension": ".py",
   "mimetype": "text/x-python",
   "name": "python",
   "nbconvert_exporter": "python",
   "pygments_lexer": "ipython3",
   "version": "3.12.9"
  }
 },
 "nbformat": 4,
 "nbformat_minor": 2
}
